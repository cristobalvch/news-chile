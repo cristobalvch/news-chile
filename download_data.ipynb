{
 "metadata": {
  "language_info": {
   "codemirror_mode": {
    "name": "ipython",
    "version": 3
   },
   "file_extension": ".py",
   "mimetype": "text/x-python",
   "name": "python",
   "nbconvert_exporter": "python",
   "pygments_lexer": "ipython3",
   "version": "3.8.5-final"
  },
  "orig_nbformat": 2,
  "kernelspec": {
   "name": "python_defaultSpec_1600557533852",
   "display_name": "Python 3.8.5 64-bit"
  }
 },
 "nbformat": 4,
 "nbformat_minor": 2,
 "cells": [
  {
   "cell_type": "code",
   "execution_count": 2,
   "metadata": {},
   "outputs": [],
   "source": [
    "# export the webscraping function\n",
    "from helpers import *\n",
    "#library to visualize and manipulate data after its extraction\n",
    "import pandas as pd"
   ]
  },
  {
   "cell_type": "code",
   "execution_count": 6,
   "metadata": {
    "tags": []
   },
   "outputs": [
    {
     "output_type": "stream",
     "name": "stdout",
     "text": "titles:+14580 description:+14580 urls:+14580\n"
    }
   ],
   "source": [
    "df = webscraping_cnn('pais',1215)"
   ]
  },
  {
   "cell_type": "code",
   "execution_count": 8,
   "metadata": {},
   "outputs": [],
   "source": [
    "#Just select the columns year, month, day, title and summary to reduce the dimension of the data frame\n",
    "df = df[['year','month','day','title','summary']]"
   ]
  },
  {
   "cell_type": "code",
   "execution_count": 9,
   "metadata": {},
   "outputs": [],
   "source": [
    "#change the types of interger and object values\n",
    "df['month'] = df['month'].astype(\"int\")\n",
    "df['day'] = df['day'].astype(\"int\")\n",
    "df['year'] = df['year'].astype(\"int\")\n",
    "df['summary'] = df['summary'].astype('str')\n",
    "df['name_month'] = 'nan'\n",
    "\n",
    "#create a new column with the names of each month\n",
    "for i in df.index:\n",
    "    if df['month'].iloc[i]==1:\n",
    "        df['name_month'].iloc[i] = 'enero'\n",
    "    if df['month'].iloc[i]==2:\n",
    "        df['name_month'].iloc[i] = 'febrero'\n",
    "    if df['month'].iloc[i]==3:\n",
    "        df['name_month'].iloc[i] = 'marzo'\n",
    "    if df['month'].iloc[i]==4:\n",
    "        df['name_month'].iloc[i] = 'abril'\n",
    "    if df['month'].iloc[i]==5:\n",
    "        df['name_month'].iloc[i] = 'mayo'\n",
    "    if df['month'].iloc[i]==6:\n",
    "        df['name_month'].iloc[i] = 'junio'\n",
    "    if df['month'].iloc[i]==7:\n",
    "        df['name_month'].iloc[i] = 'julio'\n",
    "    if df['month'].iloc[i]==8:\n",
    "        df['name_month'].iloc[i] = 'agosto'\n",
    "    if df['month'].iloc[i]==9:\n",
    "        df['name_month'].iloc[i] = 'septiembre'\n",
    "    if df['month'].iloc[i]==10:\n",
    "        df['name_month'].iloc[i] = 'octubre'\n",
    "    if df['month'].iloc[i]==11:\n",
    "        df['name_month'].iloc[i] = 'noviembre'\n",
    "    if df['month'].iloc[i]==12:\n",
    "        df['name_month'].iloc[i] = 'diciembre'"
   ]
  },
  {
   "cell_type": "code",
   "execution_count": 10,
   "metadata": {},
   "outputs": [],
   "source": [
    "#save the file\n",
    "df.to_csv(\"news.csv\",index=False)"
   ]
  }
 ]
}